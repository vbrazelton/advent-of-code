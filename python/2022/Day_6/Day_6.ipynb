{
 "cells": [
  {
   "cell_type": "markdown",
   "metadata": {},
   "source": [
    "--- Day 6: Tuning Trouble ---\n",
    "The preparations are finally complete; you and the Elves leave camp on foot and begin to make your way toward the star fruit grove.\n",
    "\n",
    "As you move through the dense undergrowth, one of the Elves gives you a handheld device. He says that it has many fancy features, but the most important one to set up right now is the communication system.\n",
    "\n",
    "However, because he's heard you have significant experience dealing with signal-based systems, he convinced the other Elves that it would be okay to give you their one malfunctioning device - surely you'll have no problem fixing it.\n",
    "\n",
    "As if inspired by comedic timing, the device emits a few colorful sparks.\n",
    "\n",
    "To be able to communicate with the Elves, the device needs to lock on to their signal. The signal is a series of seemingly-random characters that the device receives one at a time.\n",
    "\n",
    "To fix the communication system, you need to add a subroutine to the device that detects a start-of-packet marker in the datastream. In the protocol being used by the Elves, the start of a packet is indicated by a sequence of four characters that are all different.\n",
    "\n",
    "The device will send your subroutine a datastream buffer (your puzzle input); your subroutine needs to identify the first position where the four most recently received characters were all different. Specifically, it needs to report the number of characters from the beginning of the buffer to the end of the first such four-character marker.\n",
    "\n",
    "For example, suppose you receive the following datastream buffer:\n",
    "\n",
    "mjqjpqmgbljsphdztnvjfqwrcgsmlb\n",
    "After the first three characters (mjq) have been received, there haven't been enough characters received yet to find the marker. The first time a marker could occur is after the fourth character is received, making the most recent four characters mjqj. Because j is repeated, this isn't a marker.\n",
    "\n",
    "The first time a marker appears is after the seventh character arrives. Once it does, the last four characters received are jpqm, which are all different. In this case, your subroutine should report the value 7, because the first start-of-packet marker is complete after 7 characters have been processed.\n",
    "\n",
    "Here are a few more examples:\n",
    "\n",
    "bvwbjplbgvbhsrlpgdmjqwftvncz: first marker after character 5\n",
    "nppdvjthqldpwncqszvftbrmjlhg: first marker after character 6\n",
    "nznrnfrfntjfmvfwmzdfjlvtqnbhcprsg: first marker after character 10\n",
    "zcfzfwzzqfrljwzlrfnpqdbhtmscgvjw: first marker after character 11\n",
    "How many characters need to be processed before the first start-of-packet marker is detected?"
   ]
  },
  {
   "cell_type": "code",
   "execution_count": 9,
   "metadata": {},
   "outputs": [
    {
     "data": {
      "text/plain": [
       "'tes'"
      ]
     },
     "execution_count": 9,
     "metadata": {},
     "output_type": "execute_result"
    }
   ],
   "source": []
  },
  {
   "cell_type": "code",
   "execution_count": 19,
   "metadata": {},
   "outputs": [
    {
     "data": {
      "text/plain": [
       "1855"
      ]
     },
     "execution_count": 19,
     "metadata": {},
     "output_type": "execute_result"
    }
   ],
   "source": [
    "def findMakerIndex():\n",
    "    with open('input.txt') as f:\n",
    "        chars = \"\"\n",
    "        makerIndex = -1\n",
    "        for i, char in enumerate(f.read()):\n",
    "            chars = chars + char\n",
    "            if len(chars) < 4:\n",
    "                continue\n",
    "            if len(set(chars)) == 4:\n",
    "                makerIndex = i + 1\n",
    "                break\n",
    "            chars = chars[1:]\n",
    "        return makerIndex\n",
    "        \n",
    "findMakerIndex()"
   ]
  },
  {
   "cell_type": "markdown",
   "metadata": {},
   "source": [
    "The first half of this puzzle is complete! It provides one gold star: *\n",
    "\n",
    "--- Part Two ---\n",
    "Your device's communication system is correctly detecting packets, but still isn't working. It looks like it also needs to look for messages.\n",
    "\n",
    "A start-of-message marker is just like a start-of-packet marker, except it consists of 14 distinct characters rather than 4.\n",
    "\n",
    "Here are the first positions of start-of-message markers for all of the above examples:\n",
    "\n",
    "mjqjpqmgbljsphdztnvjfqwrcgsmlb: first marker after character 19\n",
    "bvwbjplbgvbhsrlpgdmjqwftvncz: first marker after character 23\n",
    "nppdvjthqldpwncqszvftbrmjlhg: first marker after character 23\n",
    "nznrnfrfntjfmvfwmzdfjlvtqnbhcprsg: first marker after character 29\n",
    "zcfzfwzzqfrljwzlrfnpqdbhtmscgvjw: first marker after character 26\n",
    "How many characters need to be processed before the first start-of-message marker is detected?"
   ]
  },
  {
   "cell_type": "code",
   "execution_count": 20,
   "metadata": {},
   "outputs": [
    {
     "data": {
      "text/plain": [
       "3256"
      ]
     },
     "execution_count": 20,
     "metadata": {},
     "output_type": "execute_result"
    }
   ],
   "source": [
    "def findMakerIndex():\n",
    "    with open('input.txt') as f:\n",
    "        chars = \"\"\n",
    "        makerIndex = -1\n",
    "        for i, char in enumerate(f.read()):\n",
    "            chars = chars + char\n",
    "            if len(chars) < 14:\n",
    "                continue\n",
    "            if len(set(chars)) == 14:\n",
    "                makerIndex = i + 1\n",
    "                break\n",
    "            chars = chars[1:]\n",
    "        return makerIndex\n",
    "        \n",
    "findMakerIndex()"
   ]
  }
 ],
 "metadata": {
  "kernelspec": {
   "display_name": "Python 3",
   "language": "python",
   "name": "python3"
  },
  "language_info": {
   "codemirror_mode": {
    "name": "ipython",
    "version": 3
   },
   "file_extension": ".py",
   "mimetype": "text/x-python",
   "name": "python",
   "nbconvert_exporter": "python",
   "pygments_lexer": "ipython3",
   "version": "3.11.3"
  },
  "orig_nbformat": 4
 },
 "nbformat": 4,
 "nbformat_minor": 2
}
