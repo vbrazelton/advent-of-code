{
 "cells": [
  {
   "cell_type": "markdown",
   "metadata": {},
   "source": [
    "--- Day 2: Rock Paper Scissors ---\n",
    "The Elves begin to set up camp on the beach. To decide whose tent gets to be closest to the snack storage, a giant Rock Paper Scissors tournament is already in progress.\n",
    "\n",
    "Rock Paper Scissors is a game between two players. Each game contains many rounds; in each round, the players each simultaneously choose one of Rock, Paper, or Scissors using a hand shape. Then, a winner for that round is selected: Rock defeats Scissors, Scissors defeats Paper, and Paper defeats Rock. If both players choose the same shape, the round instead ends in a draw.\n",
    "\n",
    "Appreciative of your help yesterday, one Elf gives you an encrypted strategy guide (your puzzle input) that they say will be sure to help you win. \"The first column is what your opponent is going to play: A for Rock, B for Paper, and C for Scissors. The second column--\" Suddenly, the Elf is called away to help with someone's tent.\n",
    "\n",
    "The second column, you reason, must be what you should play in response: X for Rock, Y for Paper, and Z for Scissors. Winning every time would be suspicious, so the responses must have been carefully chosen.\n",
    "\n",
    "The winner of the whole tournament is the player with the highest score. Your total score is the sum of your scores for each round. The score for a single round is the score for the shape you selected (1 for Rock, 2 for Paper, and 3 for Scissors) plus the score for the outcome of the round (0 if you lost, 3 if the round was a draw, and 6 if you won).\n",
    "\n",
    "Since you can't be sure if the Elf is trying to help you or trick you, you should calculate the score you would get if you were to follow the strategy guide.\n",
    "\n",
    "For example, suppose you were given the following strategy guide:\n",
    "\n",
    "A Y\n",
    "B X\n",
    "C Z\n",
    "This strategy guide predicts and recommends the following:\n",
    "\n",
    "In the first round, your opponent will choose Rock (A), and you should choose Paper (Y). This ends in a win for you with a score of 8 (2 because you chose Paper + 6 because you won).\n",
    "In the second round, your opponent will choose Paper (B), and you should choose Rock (X). This ends in a loss for you with a score of 1 (1 + 0).\n",
    "The third round is a draw with both players choosing Scissors, giving you a score of 3 + 3 = 6.\n",
    "In this example, if you were to follow the strategy guide, you would get a total score of 15 (8 + 1 + 6).\n",
    "\n",
    "What would your total score be if everything goes exactly according to your strategy guide?\n",
    "\n"
   ]
  },
  {
   "cell_type": "code",
   "execution_count": 56,
   "metadata": {},
   "outputs": [],
   "source": [
    "translate_input_map = {\n",
    "    'X': 'ROCK',\n",
    "    'Y': 'PAPER',\n",
    "    'Z': 'SCISSORS',\n",
    "    'A': 'ROCK',\n",
    "    'B': 'PAPER',\n",
    "    'C': 'SCISSORS'\n",
    "}\n",
    "\n",
    "move_value = {\n",
    "    'ROCK' : 1,\n",
    "    'PAPER' : 2,\n",
    "    'SCISSORS' : 3\n",
    "}\n",
    "\n",
    "move_by_value = {\n",
    "    1 : 'ROCK',\n",
    "    2 : 'PAPER',\n",
    "    3 : 'SCISSORS'\n",
    "}\n",
    "\n",
    "outcome_score = {\n",
    "    'W' : 6,\n",
    "    'L' : 0,\n",
    "    'D' : 3\n",
    "}\n",
    "\n",
    "translate_needed_outcome = {\n",
    "    'X' : 'L',\n",
    "    'Y' : 'D',\n",
    "    'Z' : 'W'\n",
    "}\n"
   ]
  },
  {
   "cell_type": "code",
   "execution_count": 4,
   "metadata": {},
   "outputs": [
    {
     "data": {
      "text/plain": [
       "3"
      ]
     },
     "execution_count": 4,
     "metadata": {},
     "output_type": "execute_result"
    }
   ],
   "source": [
    "move_value['SCISSORS']"
   ]
  },
  {
   "cell_type": "code",
   "execution_count": 21,
   "metadata": {},
   "outputs": [],
   "source": [
    "def deterime_outcome(opp, p1):\n",
    "    if opp == p1:\n",
    "        return 'D'\n",
    "    if move_value[p1] -1 == move_value[opp]:\n",
    "        return 'W'\n",
    "    if move_value[p1] + 2 == move_value[opp]:\n",
    "        return 'W'\n",
    "    return 'L'"
   ]
  },
  {
   "cell_type": "code",
   "execution_count": 30,
   "metadata": {},
   "outputs": [
    {
     "data": {
      "text/plain": [
       "'D'"
      ]
     },
     "execution_count": 30,
     "metadata": {},
     "output_type": "execute_result"
    }
   ],
   "source": [
    "deterime_outcome('ROCK', 'ROCK')"
   ]
  },
  {
   "cell_type": "code",
   "execution_count": 81,
   "metadata": {},
   "outputs": [],
   "source": [
    "def find_correct_move_for_strat(opp, outcome):\n",
    "    desired_outcome = translate_needed_outcome[outcome]\n",
    "    if desired_outcome == 'D':\n",
    "        return opp\n",
    "    if desired_outcome == 'W':\n",
    "        if move_value[opp] < 3:\n",
    "            return move_by_value[move_value[opp]+1]\n",
    "        return move_by_value[1]\n",
    "    \n",
    "    if move_value[opp] > 1:\n",
    "        return move_by_value[move_value[opp]-1]\n",
    "    return move_by_value[3]\n",
    "\n",
    "def score_round(opp, p1, loop_up_move = False):\n",
    "    opp_t = translate_input_map[opp]\n",
    "    if loop_up_move:\n",
    "        p1_t = find_correct_move_for_strat(opp_t, p1)\n",
    "    else:\n",
    "        p1_t = translate_input_map[p1]\n",
    "    outcome = deterime_outcome(opp_t, p1_t)\n",
    "    return outcome_score[outcome] + move_value[p1_t]\n"
   ]
  },
  {
   "cell_type": "code",
   "execution_count": 39,
   "metadata": {},
   "outputs": [
    {
     "data": {
      "text/plain": [
       "14531"
      ]
     },
     "execution_count": 39,
     "metadata": {},
     "output_type": "execute_result"
    }
   ],
   "source": [
    "score = 0\n",
    "with open('input.txt') as f:\n",
    "    for x in f.read().splitlines():\n",
    "        score += score_round(x[0],x[2], False)\n",
    "\n",
    "score"
   ]
  },
  {
   "cell_type": "markdown",
   "metadata": {},
   "source": [
    "The first half of this puzzle is complete! It provides one gold star: *\n",
    "\n",
    "--- Part Two ---\n",
    "The Elf finishes helping with the tent and sneaks back over to you. \"Anyway, the second column says how the round needs to end: X means you need to lose, Y means you need to end the round in a draw, and Z means you need to win. Good luck!\"\n",
    "\n",
    "The total score is still calculated in the same way, but now you need to figure out what shape to choose so the round ends as indicated. The example above now goes like this:\n",
    "\n",
    "In the first round, your opponent will choose Rock (A), and you need the round to end in a draw (Y), so you also choose Rock. This gives you a score of 1 + 3 = 4.\n",
    "In the second round, your opponent will choose Paper (B), and you choose Rock so you lose (X) with a score of 1 + 0 = 1.\n",
    "In the third round, you will defeat your opponent's Scissors with Rock for a score of 1 + 6 = 7.\n",
    "Now that you're correctly decrypting the ultra top secret strategy guide, you would get a total score of 12.\n",
    "\n",
    "Following the Elf's instructions for the second column, what would your total score be if everything goes exactly according to your strategy guide?"
   ]
  },
  {
   "cell_type": "code",
   "execution_count": 82,
   "metadata": {},
   "outputs": [
    {
     "data": {
      "text/plain": [
       "11258"
      ]
     },
     "execution_count": 82,
     "metadata": {},
     "output_type": "execute_result"
    }
   ],
   "source": [
    "score = 0\n",
    "with open('input.txt') as f:\n",
    "    for x in f.read().splitlines():\n",
    "        score += score_round(x[0],x[2], True)\n",
    "\n",
    "score"
   ]
  }
 ],
 "metadata": {
  "kernelspec": {
   "display_name": "Python 3",
   "language": "python",
   "name": "python3"
  },
  "language_info": {
   "codemirror_mode": {
    "name": "ipython",
    "version": 3
   },
   "file_extension": ".py",
   "mimetype": "text/x-python",
   "name": "python",
   "nbconvert_exporter": "python",
   "pygments_lexer": "ipython3",
   "version": "3.11.3"
  },
  "orig_nbformat": 4
 },
 "nbformat": 4,
 "nbformat_minor": 2
}
