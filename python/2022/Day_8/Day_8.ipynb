{
 "cells": [
  {
   "cell_type": "markdown",
   "metadata": {},
   "source": [
    "--- Day 8: Treetop Tree House ---\n",
    "The expedition comes across a peculiar patch of tall trees all planted carefully in a grid. The Elves explain that a previous expedition planted these trees as a reforestation effort. Now, they're curious if this would be a good location for a tree house.\n",
    "\n",
    "First, determine whether there is enough tree cover here to keep a tree house hidden. To do this, you need to count the number of trees that are visible from outside the grid when looking directly along a row or column.\n",
    "\n",
    "The Elves have already launched a quadcopter to generate a map with the height of each tree (your puzzle input). For example:\n",
    "\n",
    "30373\n",
    "25512\n",
    "65332\n",
    "33549\n",
    "35390\n",
    "Each tree is represented as a single digit whose value is its height, where 0 is the shortest and 9 is the tallest.\n",
    "\n",
    "A tree is visible if all of the other trees between it and an edge of the grid are shorter than it. Only consider trees in the same row or column; that is, only look up, down, left, or right from any given tree.\n",
    "\n",
    "All of the trees around the edge of the grid are visible - since they are already on the edge, there are no trees to block the view. In this example, that only leaves the interior nine trees to consider:\n",
    "\n",
    "The top-left 5 is visible from the left and top. (It isn't visible from the right or bottom since other trees of height 5 are in the way.)\n",
    "The top-middle 5 is visible from the top and right.\n",
    "The top-right 1 is not visible from any direction; for it to be visible, there would need to only be trees of height 0 between it and an edge.\n",
    "The left-middle 5 is visible, but only from the right.\n",
    "The center 3 is not visible from any direction; for it to be visible, there would need to be only trees of at most height 2 between it and an edge.\n",
    "The right-middle 3 is visible from the right.\n",
    "In the bottom row, the middle 5 is visible, but the 3 and 4 are not.\n",
    "With 16 trees visible on the edge and another 5 visible in the interior, a total of 21 trees are visible in this arrangement.\n",
    "\n",
    "Consider your map; how many trees are visible from outside the grid?"
   ]
  },
  {
   "cell_type": "code",
   "execution_count": 1,
   "metadata": {},
   "outputs": [],
   "source": [
    "import numpy as np\n",
    "import pandas as pd"
   ]
  },
  {
   "cell_type": "code",
   "execution_count": 3,
   "metadata": {},
   "outputs": [
    {
     "data": {
      "text/plain": [
       "1705"
      ]
     },
     "execution_count": 3,
     "metadata": {},
     "output_type": "execute_result"
    }
   ],
   "source": [
    "with open('input.txt', 'r') as f:\n",
    "    grid = f.read().splitlines()\n",
    "    visible_trees = len(grid)*2 + (len(grid[0])-2)*2  # Get number of trees outside\n",
    "    for row_index, row in enumerate(grid):\n",
    "        if row_index == 0 or row_index == len(grid)-1:  # Skip first and last row\n",
    "            continue\n",
    "        for tree_index, tree_height in enumerate(row):\n",
    "            if tree_index == 0 or tree_index == len(row)-1:  # Skip first and last column\n",
    "                continue\n",
    "            tree_height = int(tree_height)\n",
    "            visible_from_left = all(int(height) < tree_height for height in row[:tree_index])\n",
    "            visible_from_right = all(int(height) < tree_height for height in row[tree_index+1:])\n",
    "            top_trees = [row[tree_index] for row in grid[:row_index]]\n",
    "            visible_from_top = all(int(height) < tree_height for height in top_trees)\n",
    "            bottom_trees = [row[tree_index] for row in grid[row_index+1:]]\n",
    "            visible_from_bottom = all(int(height) < tree_height for height in bottom_trees)\n",
    "            visible_trees += any([visible_from_left, visible_from_right, visible_from_top, visible_from_bottom])\n",
    "\n",
    "\n",
    "visible_trees"
   ]
  },
  {
   "cell_type": "markdown",
   "metadata": {},
   "source": [
    "--- Part Two ---\n",
    "Content with the amount of tree cover available, the Elves just need to know the best spot to build their tree house: they would like to be able to see a lot of trees.\n",
    "\n",
    "To measure the viewing distance from a given tree, look up, down, left, and right from that tree; stop if you reach an edge or at the first tree that is the same height or taller than the tree under consideration. (If a tree is right on the edge, at least one of its viewing distances will be zero.)\n",
    "\n",
    "The Elves don't care about distant trees taller than those found by the rules above; the proposed tree house has large eaves to keep it dry, so they wouldn't be able to see higher than the tree house anyway.\n",
    "\n",
    "In the example above, consider the middle 5 in the second row:\n",
    "\n",
    "30373\n",
    "25512\n",
    "65332\n",
    "33549\n",
    "35390\n",
    "Looking up, its view is not blocked; it can see 1 tree (of height 3).\n",
    "Looking left, its view is blocked immediately; it can see only 1 tree (of height 5, right next to it).\n",
    "Looking right, its view is not blocked; it can see 2 trees.\n",
    "Looking down, its view is blocked eventually; it can see 2 trees (one of height 3, then the tree of height 5 that blocks its view).\n",
    "A tree's scenic score is found by multiplying together its viewing distance in each of the four directions. For this tree, this is 4 (found by multiplying 1 * 1 * 2 * 2).\n",
    "\n",
    "However, you can do even better: consider the tree of height 5 in the middle of the fourth row:\n",
    "\n",
    "30373\n",
    "25512\n",
    "65332\n",
    "33549\n",
    "35390\n",
    "Looking up, its view is blocked at 2 trees (by another tree with a height of 5).\n",
    "Looking left, its view is not blocked; it can see 2 trees.\n",
    "Looking down, its view is also not blocked; it can see 1 tree.\n",
    "Looking right, its view is blocked at 2 trees (by a massive tree of height 9).\n",
    "This tree's scenic score is 8 (2 * 2 * 1 * 2); this is the ideal spot for the tree house.\n",
    "\n",
    "Consider each tree on your map. What is the highest scenic score possible for any tree?"
   ]
  },
  {
   "cell_type": "code",
   "execution_count": 16,
   "metadata": {},
   "outputs": [],
   "source": [
    "def get_vision(tree_height, tree_list):\n",
    "    vision = 0\n",
    "    index = 0\n",
    "    while index != len(tree_list):\n",
    "        vision += 1\n",
    "        if int(tree_list[index]) >= tree_height:  # If tree is the same height or higher, then it's the last visible one\n",
    "            return vision\n",
    "        index += 1\n",
    "    return vision"
   ]
  },
  {
   "cell_type": "code",
   "execution_count": 18,
   "metadata": {},
   "outputs": [
    {
     "name": "stdout",
     "output_type": "stream",
     "text": [
      "371200\n"
     ]
    }
   ],
   "source": [
    "with open('input.txt', 'r') as f:\n",
    "    grid = f.read().splitlines()\n",
    "    highest_scenic_score = 0\n",
    "    for row_index, row in enumerate(grid):\n",
    "        if row_index == 0 or row_index == len(grid)-1:  # Skip first and last row\n",
    "            continue\n",
    "        for tree_index, tree_height in enumerate(row):\n",
    "            if tree_index == 0 or tree_index == len(row)-1:  # Skip first and last column\n",
    "                continue   \n",
    "            tree_height = int(tree_height)\n",
    "            left_vision = get_vision(tree_height, row[:tree_index:][::-1])\n",
    "            right_vision = get_vision(tree_height, row[tree_index+1:])\n",
    "            top_trees = [row[tree_index] for row in grid[:row_index]]\n",
    "            top_vision = get_vision(tree_height, top_trees[::-1])\n",
    "            bottom_trees = [row[tree_index] for row in grid[row_index+1:]]\n",
    "            bottom_vision = get_vision(tree_height, bottom_trees)\n",
    "            vision_score = left_vision * right_vision * top_vision * bottom_vision\n",
    "            if vision_score > highest_scenic_score:\n",
    "                highest_scenic_score = vision_score\n",
    "\n",
    "print(highest_scenic_score)"
   ]
  }
 ],
 "metadata": {
  "kernelspec": {
   "display_name": "Python 3",
   "language": "python",
   "name": "python3"
  },
  "language_info": {
   "codemirror_mode": {
    "name": "ipython",
    "version": 3
   },
   "file_extension": ".py",
   "mimetype": "text/x-python",
   "name": "python",
   "nbconvert_exporter": "python",
   "pygments_lexer": "ipython3",
   "version": "3.11.3"
  },
  "orig_nbformat": 4
 },
 "nbformat": 4,
 "nbformat_minor": 2
}
