{
 "cells": [
  {
   "cell_type": "code",
   "execution_count": 3,
   "metadata": {},
   "outputs": [],
   "source": [
    "with open('input.txt') as f:\n",
    "    data = f.read().splitlines()"
   ]
  },
  {
   "cell_type": "code",
   "execution_count": 49,
   "metadata": {},
   "outputs": [],
   "source": [
    "def get_bounds(s: str) -> int:\n",
    "    l, u = s.split('-')\n",
    "    return int(l), int(u)\n",
    "\n",
    "def determine_if_fully_contained(a, b):\n",
    "    a_l, a_u = get_bounds(a)\n",
    "    b_l, b_u = get_bounds(b)\n",
    "    \n",
    "    if a_l <= b_l <= a_u and a_l <= b_u <= a_u:\n",
    "        return 1\n",
    "    \n",
    "    if b_l <= a_l <= b_u and b_l <= a_u <= b_u:\n",
    "        return 1\n",
    "\n",
    "    return 0\n",
    "\n",
    "def determine_partial_overlap(a,b):\n",
    "    a_l, a_u = get_bounds(a)\n",
    "    b_l, b_u = get_bounds(b)\n",
    "\n",
    "    if a_l <= b_l <= a_u or a_l <= b_u <= a_u:\n",
    "        return 1\n",
    "    \n",
    "    if b_l <= a_l <= b_u or b_l <= a_u <= b_u:\n",
    "        return 1\n",
    "\n",
    "    return 0"
   ]
  },
  {
   "cell_type": "code",
   "execution_count": 48,
   "metadata": {},
   "outputs": [
    {
     "data": {
      "text/plain": [
       "507"
      ]
     },
     "execution_count": 48,
     "metadata": {},
     "output_type": "execute_result"
    }
   ],
   "source": [
    "\n",
    "total = 0\n",
    "for x in data:\n",
    "    a, b = x.split(',')\n",
    "\n",
    "    total+=determine_if_fully_contained(a,b)\n",
    "\n",
    "total"
   ]
  },
  {
   "cell_type": "markdown",
   "metadata": {},
   "source": [
    "--- Part Two ---\n",
    "It seems like there is still quite a bit of duplicate work planned. Instead, the Elves would like to know the number of pairs that overlap at all.\n",
    "\n",
    "In the above example, the first two pairs (2-4,6-8 and 2-3,4-5) don't overlap, while the remaining four pairs (5-7,7-9, 2-8,3-7, 6-6,4-6, and 2-6,4-8) do overlap:\n",
    "\n",
    "5-7,7-9 overlaps in a single section, 7.\n",
    "2-8,3-7 overlaps all of the sections 3 through 7.\n",
    "6-6,4-6 overlaps in a single section, 6.\n",
    "2-6,4-8 overlaps in sections 4, 5, and 6.\n",
    "So, in this example, the number of overlapping assignment pairs is 4.\n",
    "\n",
    "In how many assignment pairs do the ranges overlap?"
   ]
  },
  {
   "cell_type": "code",
   "execution_count": 50,
   "metadata": {},
   "outputs": [
    {
     "data": {
      "text/plain": [
       "897"
      ]
     },
     "execution_count": 50,
     "metadata": {},
     "output_type": "execute_result"
    }
   ],
   "source": [
    "total = 0\n",
    "for x in data:\n",
    "    a, b = x.split(',')\n",
    "\n",
    "    total+=determine_partial_overlap(a,b)\n",
    "\n",
    "total"
   ]
  }
 ],
 "metadata": {
  "kernelspec": {
   "display_name": "Python 3",
   "language": "python",
   "name": "python3"
  },
  "language_info": {
   "codemirror_mode": {
    "name": "ipython",
    "version": 3
   },
   "file_extension": ".py",
   "mimetype": "text/x-python",
   "name": "python",
   "nbconvert_exporter": "python",
   "pygments_lexer": "ipython3",
   "version": "3.11.3"
  },
  "orig_nbformat": 4
 },
 "nbformat": 4,
 "nbformat_minor": 2
}
